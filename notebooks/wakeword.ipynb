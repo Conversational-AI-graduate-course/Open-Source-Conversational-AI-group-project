{
 "cells": [
  {
   "cell_type": "code",
   "execution_count": 1,
   "metadata": {},
   "outputs": [
    {
     "name": "stdout",
     "output_type": "stream",
     "text": [
      "Defaulting to user installation because normal site-packages is not writeable\n",
      "Collecting openwakeword\n",
      "  Downloading openwakeword-0.6.0-py3-none-any.whl (60 kB)\n",
      "\u001b[2K     \u001b[90m━━━━━━━━━━━━━━━━━━━━━━━━━━━━━━━━━━━━━━━━\u001b[0m \u001b[32m60.7/60.7 KB\u001b[0m \u001b[31m1.8 MB/s\u001b[0m eta \u001b[36m0:00:00\u001b[0m\n",
      "\u001b[?25hCollecting scipy<2,>=1.3\n",
      "  Downloading scipy-1.14.1-cp310-cp310-manylinux_2_17_x86_64.manylinux2014_x86_64.whl (41.2 MB)\n",
      "\u001b[2K     \u001b[90m━━━━━━━━━━━━━━━━━━━━━━━━━━━━━━━━━━━━━━━━\u001b[0m \u001b[32m41.2/41.2 MB\u001b[0m \u001b[31m5.2 MB/s\u001b[0m eta \u001b[36m0:00:00\u001b[0m00:01\u001b[0m00:01\u001b[0m\n",
      "\u001b[?25hCollecting tflite-runtime<3,>=2.8.0\n",
      "  Downloading tflite_runtime-2.14.0-cp310-cp310-manylinux2014_x86_64.whl (2.4 MB)\n",
      "\u001b[2K     \u001b[90m━━━━━━━━━━━━━━━━━━━━━━━━━━━━━━━━━━━━━━━━\u001b[0m \u001b[32m2.4/2.4 MB\u001b[0m \u001b[31m3.2 MB/s\u001b[0m eta \u001b[36m0:00:00\u001b[0m00:01\u001b[0m00:01\u001b[0m\n",
      "\u001b[?25hCollecting tqdm<5.0,>=4.0\n",
      "  Downloading tqdm-4.67.1-py3-none-any.whl (78 kB)\n",
      "\u001b[2K     \u001b[90m━━━━━━━━━━━━━━━━━━━━━━━━━━━━━━━━━━━━━━━━\u001b[0m \u001b[32m78.5/78.5 KB\u001b[0m \u001b[31m2.1 MB/s\u001b[0m eta \u001b[36m0:00:00\u001b[0ma \u001b[36m0:00:01\u001b[0m\n",
      "\u001b[?25hCollecting requests<3,>=2.0\n",
      "  Using cached requests-2.32.3-py3-none-any.whl (64 kB)\n",
      "Collecting scikit-learn<2,>=1\n",
      "  Downloading scikit_learn-1.5.2-cp310-cp310-manylinux_2_17_x86_64.manylinux2014_x86_64.whl (13.3 MB)\n",
      "\u001b[2K     \u001b[90m━━━━━━━━━━━━━━━━━━━━━━━━━━━━━━━━━━━━━━━━\u001b[0m \u001b[32m13.3/13.3 MB\u001b[0m \u001b[31m5.3 MB/s\u001b[0m eta \u001b[36m0:00:00\u001b[0m00:01\u001b[0m00:01\u001b[0m\n",
      "\u001b[?25hCollecting onnxruntime<2,>=1.10.0\n",
      "  Downloading onnxruntime-1.20.1-cp310-cp310-manylinux_2_27_x86_64.manylinux_2_28_x86_64.whl (13.3 MB)\n",
      "\u001b[2K     \u001b[90m━━━━━━━━━━━━━━━━━━━━━━━━━━━━━━━━━━━━━━━━\u001b[0m \u001b[32m13.3/13.3 MB\u001b[0m \u001b[31m4.9 MB/s\u001b[0m eta \u001b[36m0:00:00\u001b[0m00:01\u001b[0m00:01\u001b[0m\n",
      "\u001b[?25hRequirement already satisfied: numpy>=1.21.6 in /home/nrogalla/.local/lib/python3.10/site-packages (from onnxruntime<2,>=1.10.0->openwakeword) (2.1.3)\n",
      "Requirement already satisfied: sympy in /home/nrogalla/.local/lib/python3.10/site-packages (from onnxruntime<2,>=1.10.0->openwakeword) (1.13.1)\n",
      "Collecting protobuf\n",
      "  Downloading protobuf-5.29.0-cp38-abi3-manylinux2014_x86_64.whl (319 kB)\n",
      "\u001b[2K     \u001b[90m━━━━━━━━━━━━━━━━━━━━━━━━━━━━━━━━━━━━━━━\u001b[0m \u001b[32m319.7/319.7 KB\u001b[0m \u001b[31m4.7 MB/s\u001b[0m eta \u001b[36m0:00:00\u001b[0ma \u001b[36m0:00:01\u001b[0m\n",
      "\u001b[?25hRequirement already satisfied: packaging in /home/nrogalla/.local/lib/python3.10/site-packages (from onnxruntime<2,>=1.10.0->openwakeword) (24.2)\n",
      "Collecting flatbuffers\n",
      "  Using cached flatbuffers-24.3.25-py2.py3-none-any.whl (26 kB)\n",
      "Collecting coloredlogs\n",
      "  Using cached coloredlogs-15.0.1-py2.py3-none-any.whl (46 kB)\n",
      "Collecting urllib3<3,>=1.21.1\n",
      "  Using cached urllib3-2.2.3-py3-none-any.whl (126 kB)\n",
      "Collecting charset-normalizer<4,>=2\n",
      "  Using cached charset_normalizer-3.4.0-cp310-cp310-manylinux_2_17_x86_64.manylinux2014_x86_64.whl (144 kB)\n",
      "Collecting certifi>=2017.4.17\n",
      "  Using cached certifi-2024.8.30-py3-none-any.whl (167 kB)\n",
      "Collecting idna<4,>=2.5\n",
      "  Using cached idna-3.10-py3-none-any.whl (70 kB)\n",
      "Collecting joblib>=1.2.0\n",
      "  Downloading joblib-1.4.2-py3-none-any.whl (301 kB)\n",
      "\u001b[2K     \u001b[90m━━━━━━━━━━━━━━━━━━━━━━━━━━━━━━━━━━━━━━━\u001b[0m \u001b[32m301.8/301.8 KB\u001b[0m \u001b[31m5.2 MB/s\u001b[0m eta \u001b[36m0:00:00\u001b[0ma \u001b[36m0:00:01\u001b[0m\n",
      "\u001b[?25hCollecting threadpoolctl>=3.1.0\n",
      "  Downloading threadpoolctl-3.5.0-py3-none-any.whl (18 kB)\n",
      "Collecting humanfriendly>=9.1\n",
      "  Using cached humanfriendly-10.0-py2.py3-none-any.whl (86 kB)\n",
      "Requirement already satisfied: mpmath<1.4,>=1.1.0 in /home/nrogalla/.local/lib/python3.10/site-packages (from sympy->onnxruntime<2,>=1.10.0->openwakeword) (1.3.0)\n",
      "Installing collected packages: flatbuffers, urllib3, tqdm, threadpoolctl, tflite-runtime, scipy, protobuf, joblib, idna, humanfriendly, charset-normalizer, certifi, scikit-learn, requests, coloredlogs, onnxruntime, openwakeword\n",
      "Successfully installed certifi-2024.8.30 charset-normalizer-3.4.0 coloredlogs-15.0.1 flatbuffers-24.3.25 humanfriendly-10.0 idna-3.10 joblib-1.4.2 onnxruntime-1.20.1 openwakeword-0.6.0 protobuf-5.29.0 requests-2.32.3 scikit-learn-1.5.2 scipy-1.14.1 tflite-runtime-2.14.0 threadpoolctl-3.5.0 tqdm-4.67.1 urllib3-2.2.3\n"
     ]
    }
   ],
   "source": [
    "!pip install openwakeword"
   ]
  },
  {
   "cell_type": "code",
   "execution_count": null,
   "metadata": {},
   "outputs": [
    {
     "name": "stderr",
     "output_type": "stream",
     "text": [
      "embedding_model.tflite: 100%|██████████| 1.33M/1.33M [00:00<00:00, 2.05MiB/s]\n",
      "embedding_model.onnx: 100%|██████████| 1.33M/1.33M [00:00<00:00, 2.22MiB/s]\n",
      "melspectrogram.tflite: 100%|██████████| 1.09M/1.09M [00:00<00:00, 1.38MiB/s]\n",
      "melspectrogram.onnx: 100%|██████████| 1.09M/1.09M [00:00<00:00, 2.29MiB/s]\n",
      "silero_vad.onnx: 100%|██████████| 1.81M/1.81M [00:00<00:00, 2.05MiB/s]\n",
      "alexa_v0.1.tflite: 100%|██████████| 855k/855k [00:00<00:00, 2.59MiB/s]\n",
      "alexa_v0.1.onnx: 100%|██████████| 854k/854k [00:00<00:00, 2.71MiB/s]\n",
      "hey_mycroft_v0.1.tflite: 100%|██████████| 860k/860k [00:00<00:00, 2.32MiB/s]\n",
      "hey_mycroft_v0.1.onnx: 100%|██████████| 858k/858k [00:00<00:00, 2.54MiB/s]\n",
      "hey_jarvis_v0.1.tflite: 100%|██████████| 1.28M/1.28M [00:00<00:00, 2.43MiB/s]\n",
      "hey_jarvis_v0.1.onnx: 100%|██████████| 1.27M/1.27M [00:00<00:00, 2.58MiB/s]\n",
      "hey_rhasspy_v0.1.tflite: 100%|██████████| 416k/416k [00:00<00:00, 2.68MiB/s]\n",
      "hey_rhasspy_v0.1.onnx: 100%|██████████| 204k/204k [00:00<00:00, 2.51MiB/s]\n",
      "timer_v0.1.tflite: 100%|██████████| 1.74M/1.74M [00:00<00:00, 2.33MiB/s]\n",
      "timer_v0.1.onnx: 100%|██████████| 1.74M/1.74M [00:00<00:00, 2.42MiB/s]\n",
      "weather_v0.1.tflite: 100%|██████████| 1.15M/1.15M [00:00<00:00, 2.67MiB/s]\n",
      "weather_v0.1.onnx: 100%|██████████| 1.15M/1.15M [00:00<00:00, 1.72MiB/s]\n"
     ]
    }
   ],
   "source": [
    "import openwakeword\n",
    "from openwakeword.model import Model\n",
    "\n",
    "# One-time download of all pre-trained models (or only select models)\n",
    "openwakeword.utils.download_models()\n",
    "\n",
    "# Instantiate the model(s)\n",
    "model = Model(\n",
    "    wakeword_models=[\"/home/nrogalla/.local/lib/python3.10/site-packages/openwakeword/resources/models/hey_jarvis_v0.1.tflite\"],  # can also leave this argument empty to load all of the included pre-trained models\n",
    ")"
   ]
  },
  {
   "cell_type": "code",
   "execution_count": 9,
   "metadata": {},
   "outputs": [
    {
     "name": "stdout",
     "output_type": "stream",
     "text": [
      "Found existing installation: numpy 2.1.3\n",
      "Uninstalling numpy-2.1.3:\n",
      "  Would remove:\n",
      "    /home/nrogalla/.local/bin/f2py\n",
      "    /home/nrogalla/.local/bin/numpy-config\n",
      "    /home/nrogalla/.local/lib/python3.10/site-packages/numpy-2.1.3.dist-info/*\n",
      "    /home/nrogalla/.local/lib/python3.10/site-packages/numpy.libs/libgfortran-040039e1-0352e75f.so.5.0.0\n",
      "    /home/nrogalla/.local/lib/python3.10/site-packages/numpy.libs/libquadmath-96973f99-934c22de.so.0.0.0\n",
      "    /home/nrogalla/.local/lib/python3.10/site-packages/numpy.libs/libscipy_openblas64_-ff651d7f.so\n",
      "    /home/nrogalla/.local/lib/python3.10/site-packages/numpy/*\n",
      "Proceed (Y/n)? ^C\n",
      "\u001b[31mERROR: Operation cancelled by user\u001b[0m\u001b[31m\n",
      "\u001b[0mDefaulting to user installation because normal site-packages is not writeable\n",
      "Collecting numpy<2\n",
      "  Downloading numpy-1.26.4-cp310-cp310-manylinux_2_17_x86_64.manylinux2014_x86_64.whl (18.2 MB)\n",
      "\u001b[2K     \u001b[90m━━━━━━━━━━━━━━━━━━━━━━━━━━━━━━━━━━━━━━━━\u001b[0m \u001b[32m18.2/18.2 MB\u001b[0m \u001b[31m6.4 MB/s\u001b[0m eta \u001b[36m0:00:00\u001b[0m00:01\u001b[0m00:01\u001b[0mm\n",
      "\u001b[?25hInstalling collected packages: numpy\n",
      "  Attempting uninstall: numpy\n",
      "    Found existing installation: numpy 2.1.3\n",
      "    Uninstalling numpy-2.1.3:\n",
      "      Successfully uninstalled numpy-2.1.3\n",
      "Successfully installed numpy-1.26.4\n"
     ]
    }
   ],
   "source": [
    "!pip uninstall numpy\n",
    "!pip install \"numpy<2\"\n"
   ]
  },
  {
   "cell_type": "code",
   "execution_count": 1,
   "metadata": {},
   "outputs": [
    {
     "name": "stdout",
     "output_type": "stream",
     "text": [
      "1.26.4\n"
     ]
    }
   ],
   "source": [
    "import numpy; print(numpy.__version__)\n"
   ]
  },
  {
   "cell_type": "code",
   "execution_count": 13,
   "metadata": {},
   "outputs": [],
   "source": [
    "# Get predictions for individual WAV files (16-bit 16khz PCM)\n",
    "from openwakeword.model import Model\n",
    "\n",
    "model = Model(\n",
    "    wakeword_models=[\"/home/nrogalla/.local/lib/python3.10/site-packages/openwakeword/resources/models/alexa_v0.1.tflite\"],  # can also leave this argument empty to load all of the included pre-trained models\n",
    ")\n",
    "prediction = model.predict_clip(\"recordings/output_20241204-094343.wav\")\n",
    "\n",
    "# # Get predictions for a large number of files using multiprocessing\n",
    "# from openwakeword.utils import bulk_predict\n",
    "\n",
    "# bulk_predict(\n",
    "#     file_paths = [\"path/to/wav/file/1\", \"path/to/wav/file/2\"],\n",
    "#     wakeword_models = [\"hey jarvis\"],\n",
    "#     ncpu=2\n",
    "# )"
   ]
  },
  {
   "cell_type": "code",
   "execution_count": 14,
   "metadata": {},
   "outputs": [
    {
     "data": {
      "text/plain": [
       "[{'alexa_v0.1': 0.0},\n",
       " {'alexa_v0.1': 0.0},\n",
       " {'alexa_v0.1': 0.0},\n",
       " {'alexa_v0.1': 0.0},\n",
       " {'alexa_v0.1': 0.0},\n",
       " {'alexa_v0.1': 1.3884483e-05},\n",
       " {'alexa_v0.1': 1.229291e-05},\n",
       " {'alexa_v0.1': 1.6570157e-05},\n",
       " {'alexa_v0.1': 5.138343e-05},\n",
       " {'alexa_v0.1': 2.3937795e-05},\n",
       " {'alexa_v0.1': 9.7472275e-06},\n",
       " {'alexa_v0.1': 8.109313e-06},\n",
       " {'alexa_v0.1': 5.7880317e-07},\n",
       " {'alexa_v0.1': 9.702615e-07},\n",
       " {'alexa_v0.1': 1.1806709e-06},\n",
       " {'alexa_v0.1': 1.5245316e-06},\n",
       " {'alexa_v0.1': 4.6892605e-05},\n",
       " {'alexa_v0.1': 1.9282896e-05},\n",
       " {'alexa_v0.1': 1.0940155e-06},\n",
       " {'alexa_v0.1': 1.3436561e-06},\n",
       " {'alexa_v0.1': 8.8792757e-07},\n",
       " {'alexa_v0.1': 1.9788581e-07},\n",
       " {'alexa_v0.1': 1.4152492e-06},\n",
       " {'alexa_v0.1': 1.2083816e-06},\n",
       " {'alexa_v0.1': 8.810824e-07},\n",
       " {'alexa_v0.1': 6.65026e-06},\n",
       " {'alexa_v0.1': 7.668118e-05},\n",
       " {'alexa_v0.1': 6.245019e-05},\n",
       " {'alexa_v0.1': 1.3069996e-05},\n",
       " {'alexa_v0.1': 7.251767e-06},\n",
       " {'alexa_v0.1': 1.060783e-06},\n",
       " {'alexa_v0.1': 3.800608e-07},\n",
       " {'alexa_v0.1': 2.4968656e-07},\n",
       " {'alexa_v0.1': 3.6299946e-07},\n",
       " {'alexa_v0.1': 7.9144917e-07},\n",
       " {'alexa_v0.1': 3.595799e-06},\n",
       " {'alexa_v0.1': 4.483426e-05},\n",
       " {'alexa_v0.1': 6.6191875e-05},\n",
       " {'alexa_v0.1': 4.255805e-05},\n",
       " {'alexa_v0.1': 3.8043163e-05},\n",
       " {'alexa_v0.1': 2.8884817e-05},\n",
       " {'alexa_v0.1': 1.6726928e-05},\n",
       " {'alexa_v0.1': 8.400003e-06},\n",
       " {'alexa_v0.1': 5.4302454e-06},\n",
       " {'alexa_v0.1': 1.6267308e-06},\n",
       " {'alexa_v0.1': 1.6785896e-06},\n",
       " {'alexa_v0.1': 2.5504821e-06},\n",
       " {'alexa_v0.1': 5.583635e-06},\n",
       " {'alexa_v0.1': 5.8002106e-06},\n",
       " {'alexa_v0.1': 4.278752e-06},\n",
       " {'alexa_v0.1': 3.5752141e-06},\n",
       " {'alexa_v0.1': 3.4653585e-06},\n",
       " {'alexa_v0.1': 3.2599428e-06},\n",
       " {'alexa_v0.1': 1.6227208e-06},\n",
       " {'alexa_v0.1': 2.6749549e-06},\n",
       " {'alexa_v0.1': 4.7316876e-06},\n",
       " {'alexa_v0.1': 5.479979e-06},\n",
       " {'alexa_v0.1': 5.1769252e-06},\n",
       " {'alexa_v0.1': 3.4242644e-06}]"
      ]
     },
     "execution_count": 14,
     "metadata": {},
     "output_type": "execute_result"
    }
   ],
   "source": [
    "prediction"
   ]
  },
  {
   "cell_type": "code",
   "execution_count": 15,
   "metadata": {},
   "outputs": [],
   "source": [
    "for item in prediction:\n",
    "        if item['alexa_v0.1']>= 0.5:\n",
    "                print(\"detected wakeword\")"
   ]
  },
  {
   "cell_type": "code",
   "execution_count": null,
   "metadata": {},
   "outputs": [],
   "source": []
  }
 ],
 "metadata": {
  "kernelspec": {
   "display_name": "Python 3",
   "language": "python",
   "name": "python3"
  },
  "language_info": {
   "codemirror_mode": {
    "name": "ipython",
    "version": 3
   },
   "file_extension": ".py",
   "mimetype": "text/x-python",
   "name": "python",
   "nbconvert_exporter": "python",
   "pygments_lexer": "ipython3",
   "version": "3.10.12"
  }
 },
 "nbformat": 4,
 "nbformat_minor": 2
}
