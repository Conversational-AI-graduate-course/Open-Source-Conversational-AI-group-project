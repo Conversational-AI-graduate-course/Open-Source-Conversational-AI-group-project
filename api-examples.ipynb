{
 "cells": [
  {
   "cell_type": "code",
   "execution_count": null,
   "metadata": {},
   "outputs": [
    {
     "name": "stdout",
     "output_type": "stream",
     "text": [
      "Transcription: turn the living room lamp on\n"
     ]
    }
   ],
   "source": [
    "from src.api import transcribe_wav, speak_text\n",
    "\n",
    "# Take a file recording.wav, transcribe it, and play the transcription\n",
    "transcription = transcribe_wav(\"./recordings/lamp.wav\") # time.wav, weather.wav, or lamp.wav\n",
    "speak_text(transcription)\n",
    "\n",
    "# Print the transcription to the console\n",
    "print(\"Transcription:\", transcription)\n",
    "\n"
   ]
  },
  {
   "cell_type": "code",
   "execution_count": null,
   "metadata": {},
   "outputs": [
    {
     "name": "stdout",
     "output_type": "stream",
     "text": [
      "Transcription: turn the living room lamp on\n"
     ]
    }
   ],
   "source": [
    "\n",
    "\n",
    "\n"
   ]
  }
 ],
 "metadata": {
  "kernelspec": {
   "display_name": "Python 3",
   "language": "python",
   "name": "python3"
  },
  "language_info": {
   "codemirror_mode": {
    "name": "ipython",
    "version": 3
   },
   "file_extension": ".py",
   "mimetype": "text/x-python",
   "name": "python",
   "nbconvert_exporter": "python",
   "pygments_lexer": "ipython3",
   "version": "3.11.0"
  }
 },
 "nbformat": 4,
 "nbformat_minor": 2
}
